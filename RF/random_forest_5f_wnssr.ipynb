{
 "cells": [
  {
   "cell_type": "code",
   "execution_count": null,
   "metadata": {},
   "outputs": [],
   "source": [
    "import numpy as np\n",
    "import pandas as pd\n",
    "import matplotlib.pyplot as plt\n",
    "from scipy.spatial import KDTree\n",
    "from scipy.integrate import solve_ivp\n",
    "from mpl_toolkits.mplot3d import Axes3D\n",
    "import warnings\n",
    "warnings.filterwarnings('ignore')\n",
    "import matplotlib as mpl\n",
    "from statsmodels.graphics.tsaplots import plot_acf\n",
    "from sklearn.model_selection import cross_val_score\n",
    "from sklearn.model_selection import RepeatedKFold\n",
    "from sklearn.model_selection import train_test_split\n",
    "from sklearn import metrics  \n",
    "# from pyearth import Earth # for building a MARS model\n",
    "import plotly.graph_objects as go\n",
    "import plotly\n",
    "\n",
    "import scipy.io as sio \n",
    "\n",
    "import glob,os\n",
    "import random\n",
    "\n",
    "from sklearn.ensemble import RandomForestRegressor"
   ]
  },
  {
   "attachments": {},
   "cell_type": "markdown",
   "metadata": {},
   "source": [
    "## Load training dataset"
   ]
  },
  {
   "cell_type": "code",
   "execution_count": null,
   "metadata": {},
   "outputs": [],
   "source": [
    "# load data\n",
    "path = 'C:/Users/MrLiangyiLYU/Desktop/SSR_ECG_niose/train_ecg_noise_ssr'\n",
    "file = glob.glob(os.path.join(path,'*.mat'))\n",
    "\n",
    "label_train = []\n",
    "for f in file:\n",
    "    label_train.append(f[76:-4])\n",
    "\n",
    "print(label_train)\n",
    "   \n",
    "d={}\n",
    "for i in range(len(file)):\n",
    "    mat = sio.loadmat(file[i])\n",
    "    d['mat_'+label_train[i]] = pd.DataFrame(mat['feature_person'],\n",
    "                                     columns=['PTTp',\n",
    "                                              'CfSlope','CfSlope(t-3)','CfSlope(t-6)',\n",
    "                                              'sys_notch_vol','sys_notch_vol(t-3)','sys_notch_vol(t-6)',\n",
    "                                              'sys_foot_RI','sys_foot_RI(t-3)','sys_foot_RI(t-6)',\n",
    "                                              'HR','HR(t-3)','HR(t-6)',\n",
    "                                              'SBP','DBP','MBP'])\n",
    "\n",
    "d1 = []\n",
    "for l in label_train:\n",
    "    df = d['mat_'+l]\n",
    "    d1.append(df)\n",
    "df_sample = pd.concat(d1)\n",
    "df_sample = df_sample.reset_index(drop=True)\n",
    "print(df_sample.shape)\n",
    "df_sample"
   ]
  },
  {
   "attachments": {},
   "cell_type": "markdown",
   "metadata": {},
   "source": [
    "## Load testing dataset"
   ]
  },
  {
   "cell_type": "code",
   "execution_count": null,
   "metadata": {},
   "outputs": [],
   "source": [
    "# test train\n",
    "path = '/Users/lyuliangyi/Desktop/HKCOCHE/state_space_reconstruction/test_noisessr/train_wnssr'\n",
    "file = glob.glob(os.path.join(path,'*.mat'))\n",
    "\n",
    "label_ttrain = []\n",
    "for f in file:\n",
    "    label_ttrain.append(f[87:-4])\n",
    "    \n",
    "d_test_train={}\n",
    "for i in range(len(file)):\n",
    "    mat = sio.loadmat(file[i])\n",
    "    d_test_train[label_ttrain[i]] = pd.DataFrame(mat['feature_person'],\n",
    "                                     columns=['PTTp',\n",
    "                                              'CfSlope','CfSlope(t-3)','CfSlope(t-6)',\n",
    "                                              'sys_notch_vol','sys_notch_vol(t-3)','sys_notch_vol(t-6)',\n",
    "                                              'sys_foot_RI','sys_foot_RI(t-3)','sys_foot_RI(t-6)',\n",
    "                                              'HR','HR(t-3)','HR(t-6)',\n",
    "                                              'SBP','DBP','MBP'])"
   ]
  },
  {
   "cell_type": "code",
   "execution_count": null,
   "metadata": {},
   "outputs": [],
   "source": [
    "# test test\n",
    "path = '/Users/lyuliangyi/Desktop/HKCOCHE/state_space_reconstruction/test_noisessr/test_wnssr'\n",
    "file = glob.glob(os.path.join(path,'*.mat'))\n",
    "\n",
    "label_ttest = []\n",
    "for f in file:\n",
    "    label_ttest.append(f[86:-4])\n",
    "    \n",
    "d_test_test={}\n",
    "for i in range(len(file)):\n",
    "    mat = sio.loadmat(file[i])\n",
    "    d_test_test[label_ttest[i]] = pd.DataFrame(mat['feature_person'],\n",
    "                                     columns=['PTTp',\n",
    "                                              'CfSlope','CfSlope(t-3)','CfSlope(t-6)',\n",
    "                                              'sys_notch_vol','sys_notch_vol(t-3)','sys_notch_vol(t-6)',\n",
    "                                              'sys_foot_RI','sys_foot_RI(t-3)','sys_foot_RI(t-6)',\n",
    "                                              'HR','HR(t-3)','HR(t-6)',\n",
    "                                              'SBP','DBP','MBP'])"
   ]
  },
  {
   "cell_type": "code",
   "execution_count": null,
   "metadata": {},
   "outputs": [],
   "source": [
    "def rf_model(df_sample,testid):\n",
    "\n",
    "    df_total = df_sample.append(d_test_train[testid]).reset_index(drop=True)\n",
    "    df_test = d_test_test[testid]\n",
    "    X_train = df_total[['PTTp','CfSlope','sys_notch_vol','sys_foot_RI','HR']]\n",
    "    y_train = df_total[['SBP','DBP','MBP']]\n",
    "    X_test = df_test[['PTTp','CfSlope','sys_notch_vol','sys_foot_RI','HR']]\n",
    "    y_test = df_test[['SBP','DBP','MBP']]\n",
    "\n",
    "    model = RandomForestRegressor(n_estimators=100, random_state= 2023)\n",
    "\n",
    "    model.fit(X_train, y_train) # fit the RF model\n",
    "\n",
    "    y_pred = model.predict(X_test) # predict on testing data\n",
    "\n",
    "    #calculate RMSE\n",
    "    rmse_sbp = np.sqrt(metrics.mean_squared_error(y_test[\"SBP\"], y_pred[:, 0]))\n",
    "    rmse_dbp = np.sqrt(metrics.mean_squared_error(y_test[\"DBP\"], y_pred[:, 1]))\n",
    "    rmse_mbp = np.sqrt(metrics.mean_squared_error(y_test[\"MBP\"], y_pred[:, 2]))\n",
    "\n",
    "    #calculate MAD\n",
    "    mad_sbp = metrics.mean_absolute_error(y_test['SBP'], y_pred[:, 0])\n",
    "    mad_dbp = metrics.mean_absolute_error(y_test['DBP'], y_pred[:, 1])\n",
    "    mad_mbp = metrics.mean_absolute_error(y_test['MBP'], y_pred[:, 2])\n",
    "    \n",
    "    df_result = pd.DataFrame({'SBP_RMSE':rmse_sbp,\n",
    "                              'DBP_RMSE':rmse_dbp,\n",
    "                              'MBP_RMSE':rmse_mbp,\n",
    "                              'SBP_MAD':mad_sbp,\n",
    "                              'DBP_MAD':mad_dbp,\n",
    "                              'MBP_MAD':mad_mbp},index=[0])\n",
    "\n",
    "    return y_pred,df_result"
   ]
  },
  {
   "cell_type": "code",
   "execution_count": null,
   "metadata": {},
   "outputs": [],
   "source": [
    "testid = sorted(label_ttest)\n",
    "bp_result = []\n",
    "dict_pred = {}\n",
    "for id in testid:\n",
    "    y_pred,result = rf_model(df_sample, id)\n",
    "    result['ID'] = id\n",
    "    dict_pred[id] = y_pred\n",
    "    bp_result.append(result)\n",
    "BP_result = pd.concat(bp_result).reset_index(drop=True)\n",
    "BP_result"
   ]
  },
  {
   "cell_type": "code",
   "execution_count": null,
   "metadata": {},
   "outputs": [],
   "source": [
    "BP_result.describe()"
   ]
  },
  {
   "cell_type": "code",
   "execution_count": null,
   "metadata": {},
   "outputs": [],
   "source": [
    "BP_result.to_csv('rf_5f_wnssr.csv',index=False)"
   ]
  }
 ],
 "metadata": {
  "kernelspec": {
   "display_name": "Python 3",
   "language": "python",
   "name": "python3"
  },
  "language_info": {
   "codemirror_mode": {
    "name": "ipython",
    "version": 3
   },
   "file_extension": ".py",
   "mimetype": "text/x-python",
   "name": "python",
   "nbconvert_exporter": "python",
   "pygments_lexer": "ipython3",
   "version": "3.11.5"
  },
  "orig_nbformat": 4
 },
 "nbformat": 4,
 "nbformat_minor": 2
}

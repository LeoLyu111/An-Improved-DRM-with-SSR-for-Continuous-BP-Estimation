{
 "cells": [
  {
   "cell_type": "code",
   "execution_count": 26,
   "metadata": {},
   "outputs": [],
   "source": [
    "import os\n",
    "\n",
    "import scipy.io as scio\n",
    "import numpy as np\n",
    "import preprocess\n",
    "from os import listdir\n",
    "from os.path import isfile, join"
   ]
  },
  {
   "cell_type": "code",
   "execution_count": 34,
   "metadata": {},
   "outputs": [],
   "source": [
    "def get_data(filelist):\n",
    "    # here we use data block method to speed up the loading process\n",
    "    block_size = 1000\n",
    "    data_block_list = []\n",
    "    for i in range(len(filelist)):\n",
    "        sample_data = scio.loadmat(filelist[i])['feature_person']  # this is rank-2\n",
    "        print(sample_data.shape)\n",
    "        if i % block_size == 0:\n",
    "            if i != 0:\n",
    "                data_block_list.append(data)\n",
    "            data = sample_data\n",
    "        else:\n",
    "            data = np.concatenate((data, sample_data), axis=0)  # this is rank-3\n",
    "        if i == len(filelist) - 1 and len(filelist) % block_size != 0:\n",
    "            data_block_list.append(data)\n",
    "    for j in range(len(data_block_list)):\n",
    "        if j == 0:\n",
    "            data = data_block_list[j]\n",
    "        else:\n",
    "            data = np.concatenate((data, data_block_list[j]), axis=0)  # this is rank-3\n",
    "    return data"
   ]
  },
  {
   "cell_type": "code",
   "execution_count": 36,
   "metadata": {},
   "outputs": [
    {
     "name": "stdout",
     "output_type": "stream",
     "text": [
      "(213, 11)\n",
      "(220, 11)\n",
      "(260, 11)\n",
      "(257, 11)\n",
      "(111, 11)\n",
      "(574, 11)\n",
      "(647, 11)\n",
      "(349, 11)\n",
      "(700, 11)\n",
      "(434, 11)\n",
      "(463, 11)\n",
      "(536, 11)\n",
      "(4764, 11)\n"
     ]
    }
   ],
   "source": [
    "data = get_data(get_filelist(data_dir))\n",
    "print(data.shape)"
   ]
  },
  {
   "cell_type": "code",
   "execution_count": 24,
   "metadata": {},
   "outputs": [],
   "source": [
    "def get_filelist(data_dir):\n",
    "    '''structure: data_source_dir -- data_dir -- data_files\n",
    "            this generate the file list and load from them to create the data array'''\n",
    "    filelist = sorted([join(data_dir, f) for f in listdir(data_dir)])\n",
    "    return filelist"
   ]
  },
  {
   "cell_type": "code",
   "execution_count": 10,
   "metadata": {},
   "outputs": [],
   "source": [
    "data_dir = './data'\n",
    "data = scio.loadmat(os.path.join(data_dir, 'p1day1.mat'))"
   ]
  },
  {
   "cell_type": "code",
   "execution_count": 12,
   "metadata": {},
   "outputs": [
    {
     "data": {
      "text/plain": [
       "(257, 11)"
      ]
     },
     "execution_count": 12,
     "metadata": {},
     "output_type": "execute_result"
    }
   ],
   "source": [
    "data['feature_person'].shape"
   ]
  },
  {
   "cell_type": "code",
   "execution_count": null,
   "metadata": {},
   "outputs": [],
   "source": []
  }
 ],
 "metadata": {
  "kernelspec": {
   "display_name": "Python 3.7.15 ('zzz')",
   "language": "python",
   "name": "python3"
  },
  "language_info": {
   "codemirror_mode": {
    "name": "ipython",
    "version": 3
   },
   "file_extension": ".py",
   "mimetype": "text/x-python",
   "name": "python",
   "nbconvert_exporter": "python",
   "pygments_lexer": "ipython3",
   "version": "3.10.8"
  },
  "orig_nbformat": 4,
  "vscode": {
   "interpreter": {
    "hash": "261cec6f9f548956a5654623c295810439d798b355de754eecd540fc89d68ac1"
   }
  }
 },
 "nbformat": 4,
 "nbformat_minor": 2
}
